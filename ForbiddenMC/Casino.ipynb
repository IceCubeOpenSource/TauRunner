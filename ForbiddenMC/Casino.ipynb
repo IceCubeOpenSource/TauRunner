{
 "cells": [
  {
   "cell_type": "code",
   "execution_count": 2,
   "metadata": {
    "collapsed": true
   },
   "outputs": [],
   "source": [
    "import numpy as np\n",
    "import scipy as sp\n",
    "import nuSQUIDSpy as nsq"
   ]
  },
  {
   "cell_type": "code",
   "execution_count": 32,
   "metadata": {
    "collapsed": true
   },
   "outputs": [],
   "source": [
    "units = nsq.Const()\n",
    "gr = nsq.GlashowResonanceCrossSection()\n",
    "dis = nsq.NeutrinoDISCrossSectionsFromTables()"
   ]
  },
  {
   "cell_type": "code",
   "execution_count": 33,
   "metadata": {},
   "outputs": [],
   "source": [
    "def TotalNeutrinoCrossSection(enu, \n",
    "                              flavor = nsq.NeutrinoCrossSections_NeutrinoFlavor.electron,\n",
    "                              neutype = nsq.NeutrinoCrossSections_NeutrinoType.neutrino):\n",
    "    return np.sum([dis.TotalCrossSection(enu*units.GeV,flavor,neutype,interaction) for interaction in\n",
    "            [nsq.NeutrinoCrossSections_Current.CC,nsq.NeutrinoCrossSections_Current.NC]])\n",
    "\n",
    "def DifferentialOutGoingLeptonDistribution(enu_in,enu_out,\n",
    "                                       flavor = nsq.NeutrinoCrossSections_NeutrinoFlavor.tau,\n",
    "                                       neutype = nsq.NeutrinoCrossSections_NeutrinoType.neutrino,\n",
    "                                       interaction = nsq.NeutrinoCrossSections_Current.NC\n",
    "                                    ):\n",
    "    total = dis.TotalCrossSection(enu_in*units.GeV,flavor,neutype,interaction)\n",
    "    diff = dis.SingleDifferentialCrossSection(enu_in*units.GeV,enu_out*units.GeV,flavor,neutype,interaction)\n",
    "    return diff/total\n",
    "\n",
    "def DistributionOfTauDecays(tau_initial,tau_final):\n",
    "    #make me\n",
    "    return 1."
   ]
  },
  {
   "cell_type": "code",
   "execution_count": 34,
   "metadata": {
    "collapsed": true
   },
   "outputs": [],
   "source": [
    "def InteractionLength(xs, density):\n",
    "    return 1./(xs*density)"
   ]
  },
  {
   "cell_type": "code",
   "execution_count": 30,
   "metadata": {
    "collapsed": true
   },
   "outputs": [],
   "source": [
    "LifeTimeDictionary = {\"tau_neutrino\": np.inf, \"tau\": 1.*units.sec};\n",
    "MassDictionary = {\"tau_neutrino\": 0., \"tau\": 1.7*units.GeV};\n",
    "proton_mass = 1.*units.GeV\n",
    "\n",
    "class CasinoEvent(object):\n",
    "    def __init__(self, particle_id, energy, position):\n",
    "        self.particle_id = particle_id\n",
    "        self.energy = energy\n",
    "        self.position = position\n",
    "    def GetDecayProbability(self,dL):\n",
    "        # check me\n",
    "        boost_factor = (self.energy/MassDictionary[self.particle_id])\n",
    "        return dL*boost_factor/LifeTimeDictionary[self.particle_id]\n",
    "    def GetInteractionProbability(self,dL,density):\n",
    "        # check me\n",
    "        return dL/(TotalNeutrinoCrossSection(self.energy)*density/proton_mass)"
   ]
  },
  {
   "cell_type": "code",
   "execution_count": 31,
   "metadata": {
    "collapsed": true
   },
   "outputs": [],
   "source": [
    "TotalDistance = 100*units.km\n",
    "ProposedDistanceStep = 1.*units.km \n",
    "density = 1.*units.gr/units.cm**3"
   ]
  },
  {
   "cell_type": "code",
   "execution_count": 26,
   "metadata": {
    "collapsed": true
   },
   "outputs": [],
   "source": [
    "FirstEvent = CasinoEvent(\"tau_neutrino\",1e7*units.GeV,0.0)"
   ]
  },
  {
   "cell_type": "code",
   "execution_count": null,
   "metadata": {
    "collapsed": true
   },
   "outputs": [],
   "source": [
    "EventCollection = [FirstEvent]\n",
    "\n",
    "while(map(lambda e: e.position < TotalDistance,EventCollection)):\n",
    "    for(event in EventCollection):\n",
    "        if(event.GetDecayProbability(ProposedDistanceStep)<p):\n",
    "            # do decay\n",
    "            event.particle_id = \"tau_neutrino\"\n",
    "            event.energy = Sample(lambda enu_out: DistributionOfTauDecays(e.energy, enu_out))\n",
    "        if(event.GetInteractionProbability(ProposedDistanceStep,density)<p):\n",
    "            # do interaction\n",
    "            if event.particle_id = \"tau_neutrino\":\n",
    "                event.energy = Sample(lambda enu_out: DifferentialOutGoingNeutrinoLeptonDistribution(e.energy, enu_out))\n",
    "            else if event.particle_id = \"tau\":\n",
    "                event.energy = Sample(lambda enu_out: DifferentialOutGoingTauLeptonDistribution(e.energy, enu_out))\n",
    "    # move everything forward\n",
    "    for(event in EventCollection):\n",
    "        event.position += ProposedDistanceStep\n"
   ]
  }
 ],
 "metadata": {
  "kernelspec": {
   "display_name": "Python 2",
   "language": "python",
   "name": "python2"
  },
  "language_info": {
   "codemirror_mode": {
    "name": "ipython",
    "version": 2
   },
   "file_extension": ".py",
   "mimetype": "text/x-python",
   "name": "python",
   "nbconvert_exporter": "python",
   "pygments_lexer": "ipython2",
   "version": "2.7.10"
  }
 },
 "nbformat": 4,
 "nbformat_minor": 2
}

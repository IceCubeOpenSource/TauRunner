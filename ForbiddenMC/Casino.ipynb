{
 "cells": [
  {
   "cell_type": "code",
   "execution_count": 156,
   "metadata": {
    "collapsed": true
   },
   "outputs": [],
   "source": [
    "%matplotlib inline\n",
    "import matplotlib.pyplot as plt\n",
    "import numpy as np\n",
    "import scipy as sp\n",
    "import nuSQUIDSpy as nsq\n",
    "import pickle"
   ]
  },
  {
   "cell_type": "code",
   "execution_count": 157,
   "metadata": {
    "collapsed": true
   },
   "outputs": [],
   "source": [
    "units = nsq.Const()\n",
    "gr = nsq.GlashowResonanceCrossSection()\n",
    "dis = nsq.NeutrinoDISCrossSectionsFromTables()\n",
    "tds = nsq.TauDecaySpectra()"
   ]
  },
  {
   "cell_type": "code",
   "execution_count": 158,
   "metadata": {
    "collapsed": true
   },
   "outputs": [],
   "source": [
    "File = open('taus_rock_ALLM97_lpm_vcut1e-3_MMC_Ordered_weighted.pickle','r')\n",
    "tau_loss_array = pickle.load(File)\n",
    "\n",
    "def find_nearest(array, value):\n",
    "    array = np.asarray(array)\n",
    "    idx = (np.abs(array - value)).argmin()\n",
    "    return array[idx]\n",
    "\n",
    "def SampleFinalTauParams(e_in):\n",
    "    eins = np.logspace(6,16,500)\n",
    "    e_in = find_nearest(eins, e_in)\n",
    "    choices = tau_loss_array[e_in]['choices']\n",
    "    weights = tau_loss_array[e_in]['weights']\n",
    "    choice_index = np.arange(0, len(choices))\n",
    "\n",
    "    index = np.random.choice(choice_index, p=weights)\n",
    "    (e_final, distance) = choices[index]\n",
    "\n",
    "    return(10**e_final, 10**distance)"
   ]
  },
  {
   "cell_type": "code",
   "execution_count": 188,
   "metadata": {
    "collapsed": true
   },
   "outputs": [],
   "source": [
    "def TotalNeutrinoCrossSection(enu, \n",
    "                              flavor = nsq.NeutrinoCrossSections_NeutrinoFlavor.electron,\n",
    "                              neutype = nsq.NeutrinoCrossSections_NeutrinoType.neutrino):\n",
    "    return np.sum([dis.TotalCrossSection(enu/units.GeV,flavor,neutype,interaction) for interaction in\n",
    "            [nsq.NeutrinoCrossSections_Current.CC,nsq.NeutrinoCrossSections_Current.NC]])\n",
    "\n",
    "def DifferentialOutGoingLeptonDistribution(enu_in,enu_out,\n",
    "                                       flavor = nsq.NeutrinoCrossSections_NeutrinoFlavor.tau,\n",
    "                                       neutype = nsq.NeutrinoCrossSections_NeutrinoType.neutrino,\n",
    "                                       interaction = nsq.NeutrinoCrossSections_Current.NC\n",
    "                                    ):\n",
    "    #total = dis.TotalCrossSection(enu_in/units.GeV,flavor,neutype,interaction)\n",
    "    diff = dis.SingleDifferentialCrossSection(enu_in/units.GeV,enu_out/units.GeV,flavor,neutype,interaction)\n",
    "    #return diff/total\n",
    "    return diff"
   ]
  },
  {
   "cell_type": "code",
   "execution_count": 189,
   "metadata": {
    "collapsed": true
   },
   "outputs": [],
   "source": [
    "Etau = 100.\n",
    "zz = np.linspace(0.0,1.0,500)\n",
    "dNTaudz = lambda z: tds.TauDecayToAll(Etau, Etau*z)\n",
    "TauDecayWeights = np.array(map(dNTaudz,zz))\n",
    "TauDecayWeights = TauDecayWeights/np.sum(TauDecayWeights)\n",
    "\n",
    "yy = np.linspace(0.0,1.0,100)\n",
    "\n",
    "proton_mass = 1.*units.GeV"
   ]
  },
  {
   "cell_type": "code",
   "execution_count": 235,
   "metadata": {},
   "outputs": [],
   "source": [
    "class CasinoEvent(object):\n",
    "    def __init__(self, particle_id, energy, position):\n",
    "        ## need to add tree in an efficient way\n",
    "\n",
    "        self.particle_id = particle_id\n",
    "        self.energy = energy\n",
    "        self.position = position\n",
    "        self.SetParticleProperties()\n",
    "        self.history = [\"Event created as \" + particle_id]\n",
    "        \n",
    "    def SetParticleProperties(self):\n",
    "        if self.particle_id == \"tau_neutrino\":\n",
    "            self.mass = 0.0\n",
    "            self.lifetime = np.inf\n",
    "        if self.particle_id == \"tau\":\n",
    "            self.mass = 1.7*units.GeV\n",
    "            self.lifetime = 1.*units.sec\n",
    "            \n",
    "    def GetParticleId(self):\n",
    "        return self.particle_id\n",
    "    \n",
    "    def GetLifetime(self):\n",
    "        return self.lifetime\n",
    "    \n",
    "    def GetMass(self):\n",
    "        return self.mass\n",
    "    \n",
    "    def GetBoostFactor(self):\n",
    "        if self.mass > 0.:\n",
    "            return self.energy/self.mass\n",
    "        else:\n",
    "            return np.inf\n",
    "            \n",
    "    def GetDecayProbability(self,dL):\n",
    "        boost_factor = self.GetBoostFactor()\n",
    "        return dL/(boost_factor*self.lifetime)\n",
    "    \n",
    "    def GetInteractionLength(self,density):\n",
    "        if self.particle_id == \"tau_neutrino\":\n",
    "            # this should be actually divided by average of proton and neutron mass\n",
    "            return TotalNeutrinoCrossSection(self.energy)*density/(proton_mass)\n",
    "        if self.particle_id == \"tau\":\n",
    "            # here we need the total tau cross section\n",
    "            #return TotalNeutrinoCrossSection(self.energy)*density/(proton_mass)\n",
    "            return 0.01*units.cm\n",
    "    \n",
    "    def GetInteractionProbability(self,dL,density):\n",
    "        return dL/self.GetInteractionLength(density)\n",
    "    \n",
    "    def DecayParticle(self):\n",
    "        if self.particle_id == \"tau_neutrino\":\n",
    "            self.history.append(\"Neutrino decayed???\")\n",
    "            return\n",
    "        if self.particle_id == \"tau\":\n",
    "            self.energy = self.energy*np.random.choice(zz, p=TauDecayWeights)\n",
    "            self.particle_id = \"tau_neutrino\"\n",
    "            self.SetParticleProperties()\n",
    "            self.history.append(\"Tau decayed\")\n",
    "            return\n",
    "            \n",
    "    def InteractParticle(self):\n",
    "        if self.particle_id == \"tau_neutrino\":\n",
    "            # add logic of NC v CC\n",
    "            dNdEle = lambda y: DifferentialOutGoingLeptonDistribution(self.energy,self.energy*y)\n",
    "            NeutrinoInteractionWeights = map(dNdEle,yy)\n",
    "            NeutrinoInteractionWeights = NeutrinoInteractionWeights/np.sum(NeutrinoInteractionWeights)\n",
    "            self.energy = self.energy*np.random.choice(yy, p=NeutrinoInteractionWeights)\n",
    "            self.particle_id = \"tau\"\n",
    "            self.SetParticleProperties()\n",
    "            #if(self.energy < self.mass):\n",
    "            #    self.position = np.inf\n",
    "            self.history.append(\"Neutrino Interacted\")\n",
    "            return\n",
    "        if self.particle_id == \"tau\":\n",
    "            Efin, Ladv = SampleFinalTauParams(self.energy/units.GeV)\n",
    "            self.energy = Efin\n",
    "            self.position += Ladv*units.km\n",
    "            self.history.append(\"Tau Interacted\")\n",
    "            self.DecayParticle()\n",
    "            return\n",
    "        \n",
    "    def PrintParticleProperties(self):\n",
    "        print self.particle_id, self.energy/units.GeV, self.position/units.km"
   ]
  },
  {
   "cell_type": "code",
   "execution_count": 236,
   "metadata": {
    "collapsed": true
   },
   "outputs": [],
   "source": [
    "TotalDistance = 100*units.km\n",
    "ProposedDistanceStep = 1.*units.km \n",
    "density = 1.*units.gr/units.cm**3"
   ]
  },
  {
   "cell_type": "code",
   "execution_count": 237,
   "metadata": {},
   "outputs": [],
   "source": [
    "FirstEvent = CasinoEvent(\"tau_neutrino\",1e7*units.GeV,0.0)\n",
    "EventCollection = [FirstEvent]\n",
    "\n",
    "while(not np.any(map(lambda e: (e.position > TotalDistance) or (e.energy < e.GetMass()), EventCollection))):\n",
    "    for event in EventCollection:\n",
    "        p = np.random.random_sample()\n",
    "        if event.GetDecayProbability(ProposedDistanceStep) > p:\n",
    "            # do decay\n",
    "            #print \"Decayed\"\n",
    "            event.DecayParticle()\n",
    "        p = np.random.random_sample()\n",
    "        if event.GetInteractionProbability(ProposedDistanceStep,density) > p:\n",
    "            #print \"Interacted\"\n",
    "            event.InteractParticle()\n",
    "    # move everything forward\n",
    "    for event in EventCollection:\n",
    "        event.position += ProposedDistanceStep"
   ]
  },
  {
   "cell_type": "code",
   "execution_count": 238,
   "metadata": {},
   "outputs": [
    {
     "name": "stdout",
     "output_type": "stream",
     "text": [
      "tau 0.000752915562872 3.09769362646\n"
     ]
    }
   ],
   "source": [
    "event.PrintParticleProperties()"
   ]
  },
  {
   "cell_type": "code",
   "execution_count": 239,
   "metadata": {},
   "outputs": [
    {
     "data": {
      "text/plain": [
       "9.667283270890001e-11"
      ]
     },
     "execution_count": 239,
     "metadata": {},
     "output_type": "execute_result"
    }
   ],
   "source": [
    "966728.327089/(1e7*units.GeV)"
   ]
  },
  {
   "cell_type": "code",
   "execution_count": 240,
   "metadata": {},
   "outputs": [
    {
     "data": {
      "text/plain": [
       "['Event created as tau_neutrino',\n",
       " 'Neutrino Interacted',\n",
       " 'Tau Interacted',\n",
       " 'Tau decayed',\n",
       " 'Neutrino Interacted']"
      ]
     },
     "execution_count": 240,
     "metadata": {},
     "output_type": "execute_result"
    }
   ],
   "source": [
    "event.history"
   ]
  },
  {
   "cell_type": "code",
   "execution_count": null,
   "metadata": {
    "collapsed": true
   },
   "outputs": [],
   "source": []
  }
 ],
 "metadata": {
  "kernelspec": {
   "display_name": "Python 2",
   "language": "python",
   "name": "python2"
  },
  "language_info": {
   "codemirror_mode": {
    "name": "ipython",
    "version": 2
   },
   "file_extension": ".py",
   "mimetype": "text/x-python",
   "name": "python",
   "nbconvert_exporter": "python",
   "pygments_lexer": "ipython2",
   "version": "2.7.10"
  }
 },
 "nbformat": 4,
 "nbformat_minor": 2
}

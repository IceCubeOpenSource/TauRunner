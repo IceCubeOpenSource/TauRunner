{
 "cells": [
  {
   "cell_type": "code",
   "execution_count": 1,
   "metadata": {},
   "outputs": [],
   "source": [
    "import numpy as np\n",
    "import scipy as sp\n",
    "import sys\n",
    "sys.path.append('/Users/isafa/Programs/NUSQUIDS/nuSQuIDS/resources/python/bindings/')\n",
    "import nuSQUIDSpy as nsq"
   ]
  },
  {
   "cell_type": "code",
   "execution_count": 2,
   "metadata": {
    "scrolled": true
   },
   "outputs": [],
   "source": [
    "units = nsq.Const()\n",
    "gr = nsq.GlashowResonanceCrossSection()\n",
    "dis = nsq.NeutrinoDISCrossSectionsFromTables()"
   ]
  },
  {
   "cell_type": "code",
   "execution_count": 3,
   "metadata": {
    "collapsed": true
   },
   "outputs": [],
   "source": [
    "def TotalNeutrinoCrossSection(enu, \n",
    "                              flavor = nsq.NeutrinoCrossSections_NeutrinoFlavor.electron,\n",
    "                              neutype = nsq.NeutrinoCrossSections_NeutrinoType.neutrino):\n",
    "    return np.sum([dis.TotalCrossSection(enu*units.GeV,flavor,neutype,interaction) for interaction in\n",
    "            [nsq.NeutrinoCrossSections_Current.CC,nsq.NeutrinoCrossSections_Current.NC]])\n",
    "\n",
    "def DifferentialOutGoingLeptonDistribution(enu_in,enu_out,\n",
    "                                       flavor = nsq.NeutrinoCrossSections_NeutrinoFlavor.tau,\n",
    "                                       neutype = nsq.NeutrinoCrossSections_NeutrinoType.neutrino,\n",
    "                                       interaction = nsq.NeutrinoCrossSections_Current.NC\n",
    "                                    ):\n",
    "    total = dis.TotalCrossSection(enu_in*units.GeV,flavor,neutype,interaction)\n",
    "    diff = dis.SingleDifferentialCrossSection(enu_in*units.GeV,enu_out*units.GeV,flavor,neutype,interaction)\n",
    "    return diff/total\n",
    "\n",
    "def DistributionOfTauDecays(tau_initial,tau_final):\n",
    "    #make me\n",
    "    return 1."
   ]
  },
  {
   "cell_type": "code",
   "execution_count": 4,
   "metadata": {
    "collapsed": true
   },
   "outputs": [],
   "source": [
    "def InteractionLength(xs, density):\n",
    "    return 1./(xs*density)"
   ]
  },
  {
   "cell_type": "code",
   "execution_count": 5,
   "metadata": {
    "collapsed": true
   },
   "outputs": [],
   "source": [
    "LifeTimeDictionary = {\"tau_neutrino\": np.inf, \"tau\": 1.*units.sec};\n",
    "MassDictionary = {\"tau_neutrino\": 0., \"tau\": 1.7*units.GeV};\n",
    "proton_mass = 1.*units.GeV\n",
    "\n",
    "class CasinoEvent(object):\n",
    "    def __init__(self, particle_id, energy, position):\n",
    "        self.particle_id = particle_id\n",
    "        self.energy = energy\n",
    "        self.position = position\n",
    "    def GetDecayProbability(self,dL):\n",
    "        # check me\n",
    "        boost_factor = (self.energy/MassDictionary[self.particle_id])\n",
    "        return dL*boost_factor/LifeTimeDictionary[self.particle_id]\n",
    "    def GetInteractionProbability(self,dL,density):\n",
    "        # check me\n",
    "        return dL/(TotalNeutrinoCrossSection(self.energy)*density/proton_mass)"
   ]
  },
  {
   "cell_type": "code",
   "execution_count": 6,
   "metadata": {
    "collapsed": true
   },
   "outputs": [],
   "source": [
    "TotalDistance = 100*units.km\n",
    "ProposedDistanceStep = 1.*units.km \n",
    "density = 1.*units.gr/units.cm**3"
   ]
  },
  {
   "cell_type": "code",
   "execution_count": 7,
   "metadata": {
    "collapsed": true
   },
   "outputs": [],
   "source": [
    "FirstEvent = CasinoEvent(\"tau_neutrino\",1e7*units.GeV,0.0)"
   ]
  },
  {
   "cell_type": "code",
   "execution_count": 13,
   "metadata": {},
   "outputs": [
    {
     "ename": "ZeroDivisionError",
     "evalue": "float division by zero",
     "output_type": "error",
     "traceback": [
      "\u001b[0;31m---------------------------------------------------------------------------\u001b[0m",
      "\u001b[0;31mZeroDivisionError\u001b[0m                         Traceback (most recent call last)",
      "\u001b[0;32m<ipython-input-13-877265a9c03c>\u001b[0m in \u001b[0;36m<module>\u001b[0;34m()\u001b[0m\n\u001b[1;32m      3\u001b[0m \u001b[0;32mwhile\u001b[0m\u001b[0;34m(\u001b[0m\u001b[0mmap\u001b[0m\u001b[0;34m(\u001b[0m\u001b[0;32mlambda\u001b[0m \u001b[0me\u001b[0m\u001b[0;34m:\u001b[0m \u001b[0me\u001b[0m\u001b[0;34m.\u001b[0m\u001b[0mposition\u001b[0m \u001b[0;34m<\u001b[0m \u001b[0mTotalDistance\u001b[0m\u001b[0;34m,\u001b[0m\u001b[0mEventCollection\u001b[0m\u001b[0;34m)\u001b[0m\u001b[0;34m)\u001b[0m\u001b[0;34m:\u001b[0m\u001b[0;34m\u001b[0m\u001b[0m\n\u001b[1;32m      4\u001b[0m     \u001b[0;32mfor\u001b[0m \u001b[0mevent\u001b[0m \u001b[0;32min\u001b[0m \u001b[0mEventCollection\u001b[0m\u001b[0;34m:\u001b[0m\u001b[0;34m\u001b[0m\u001b[0m\n\u001b[0;32m----> 5\u001b[0;31m         \u001b[0;32mif\u001b[0m\u001b[0;34m(\u001b[0m\u001b[0mevent\u001b[0m\u001b[0;34m.\u001b[0m\u001b[0mGetDecayProbability\u001b[0m\u001b[0;34m(\u001b[0m\u001b[0mProposedDistanceStep\u001b[0m\u001b[0;34m)\u001b[0m\u001b[0;34m<\u001b[0m\u001b[0mp\u001b[0m\u001b[0;34m)\u001b[0m\u001b[0;34m:\u001b[0m\u001b[0;34m\u001b[0m\u001b[0m\n\u001b[0m\u001b[1;32m      6\u001b[0m             \u001b[0;31m# do decay\u001b[0m\u001b[0;34m\u001b[0m\u001b[0;34m\u001b[0m\u001b[0m\n\u001b[1;32m      7\u001b[0m             \u001b[0mevent\u001b[0m\u001b[0;34m.\u001b[0m\u001b[0mparticle_id\u001b[0m \u001b[0;34m==\u001b[0m \u001b[0;34m\"tau_neutrino\"\u001b[0m\u001b[0;34m\u001b[0m\u001b[0m\n",
      "\u001b[0;32m<ipython-input-5-7ec217b1d0aa>\u001b[0m in \u001b[0;36mGetDecayProbability\u001b[0;34m(self, dL)\u001b[0m\n\u001b[1;32m     10\u001b[0m     \u001b[0;32mdef\u001b[0m \u001b[0mGetDecayProbability\u001b[0m\u001b[0;34m(\u001b[0m\u001b[0mself\u001b[0m\u001b[0;34m,\u001b[0m\u001b[0mdL\u001b[0m\u001b[0;34m)\u001b[0m\u001b[0;34m:\u001b[0m\u001b[0;34m\u001b[0m\u001b[0m\n\u001b[1;32m     11\u001b[0m         \u001b[0;31m# check me\u001b[0m\u001b[0;34m\u001b[0m\u001b[0;34m\u001b[0m\u001b[0m\n\u001b[0;32m---> 12\u001b[0;31m         \u001b[0mboost_factor\u001b[0m \u001b[0;34m=\u001b[0m \u001b[0;34m(\u001b[0m\u001b[0mself\u001b[0m\u001b[0;34m.\u001b[0m\u001b[0menergy\u001b[0m\u001b[0;34m/\u001b[0m\u001b[0mMassDictionary\u001b[0m\u001b[0;34m[\u001b[0m\u001b[0mself\u001b[0m\u001b[0;34m.\u001b[0m\u001b[0mparticle_id\u001b[0m\u001b[0;34m]\u001b[0m\u001b[0;34m)\u001b[0m\u001b[0;34m\u001b[0m\u001b[0m\n\u001b[0m\u001b[1;32m     13\u001b[0m         \u001b[0;32mreturn\u001b[0m \u001b[0mdL\u001b[0m\u001b[0;34m*\u001b[0m\u001b[0mboost_factor\u001b[0m\u001b[0;34m/\u001b[0m\u001b[0mLifeTimeDictionary\u001b[0m\u001b[0;34m[\u001b[0m\u001b[0mself\u001b[0m\u001b[0;34m.\u001b[0m\u001b[0mparticle_id\u001b[0m\u001b[0;34m]\u001b[0m\u001b[0;34m\u001b[0m\u001b[0m\n\u001b[1;32m     14\u001b[0m     \u001b[0;32mdef\u001b[0m \u001b[0mGetInteractionProbability\u001b[0m\u001b[0;34m(\u001b[0m\u001b[0mself\u001b[0m\u001b[0;34m,\u001b[0m\u001b[0mdL\u001b[0m\u001b[0;34m,\u001b[0m\u001b[0mdensity\u001b[0m\u001b[0;34m)\u001b[0m\u001b[0;34m:\u001b[0m\u001b[0;34m\u001b[0m\u001b[0m\n",
      "\u001b[0;31mZeroDivisionError\u001b[0m: float division by zero"
     ]
    }
   ],
   "source": [
    "EventCollection = [FirstEvent]\n",
    "\n",
    "while(map(lambda e: e.position < TotalDistance,EventCollection)):\n",
    "    for event in EventCollection:\n",
    "        if(event.GetDecayProbability(ProposedDistanceStep)<p):\n",
    "            # do decay\n",
    "            event.particle_id == \"tau_neutrino\"\n",
    "            event.energy = Sample(lambda enu_out: DistributionOfTauDecays(e.energy, enu_out))\n",
    "        if(event.GetInteractionProbability(ProposedDistanceStep,density)<p):\n",
    "            # do interaction\n",
    "            if event.particle_id == \"tau_neutrino\":\n",
    "                event.energy = Sample(lambda enu_out: DifferentialOutGoingNeutrinoLeptonDistribution(e.energy, enu_out))\n",
    "            elif event.particle_id == \"tau\":\n",
    "                event.energy = Sample(lambda enu_out: DifferentialOutGoingTauLeptonDistribution(e.energy, enu_out))\n",
    "    # move everything forward\n",
    "    for event in EventCollection:\n",
    "        event.position += ProposedDistanceStep\n"
   ]
  },
  {
   "cell_type": "code",
   "execution_count": null,
   "metadata": {
    "collapsed": true
   },
   "outputs": [],
   "source": []
  }
 ],
 "metadata": {
  "kernelspec": {
   "display_name": "Python 2",
   "language": "python",
   "name": "python2"
  },
  "language_info": {
   "codemirror_mode": {
    "name": "ipython",
    "version": 2
   },
   "file_extension": ".py",
   "mimetype": "text/x-python",
   "name": "python",
   "nbconvert_exporter": "python",
   "pygments_lexer": "ipython2",
   "version": "2.7.14"
  }
 },
 "nbformat": 4,
 "nbformat_minor": 2
}

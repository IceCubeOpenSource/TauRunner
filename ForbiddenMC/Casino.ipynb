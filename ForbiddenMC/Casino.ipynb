{
 "cells": [
  {
   "cell_type": "code",
   "execution_count": 8,
   "metadata": {
    "collapsed": true
   },
   "outputs": [],
   "source": [
    "%matplotlib inline\n",
    "import matplotlib.pyplot as plt\n",
    "import numpy as np\n",
    "import scipy as sp\n",
    "import nuSQUIDSpy as nsq"
   ]
  },
  {
   "cell_type": "code",
   "execution_count": 9,
   "metadata": {
    "collapsed": true
   },
   "outputs": [],
   "source": [
    "units = nsq.Const()\n",
    "gr = nsq.GlashowResonanceCrossSection()\n",
    "dis = nsq.NeutrinoDISCrossSectionsFromTables()\n",
    "tds = nsq.TauDecaySpectra()"
   ]
  },
  {
   "cell_type": "code",
   "execution_count": 68,
   "metadata": {
    "collapsed": true
   },
   "outputs": [],
   "source": [
    "def TotalNeutrinoCrossSection(enu, \n",
    "                              flavor = nsq.NeutrinoCrossSections_NeutrinoFlavor.electron,\n",
    "                              neutype = nsq.NeutrinoCrossSections_NeutrinoType.neutrino):\n",
    "    return np.sum([dis.TotalCrossSection(enu/units.GeV,flavor,neutype,interaction) for interaction in\n",
    "            [nsq.NeutrinoCrossSections_Current.CC,nsq.NeutrinoCrossSections_Current.NC]])\n",
    "\n",
    "def DifferentialOutGoingLeptonDistribution(enu_in,enu_out,\n",
    "                                       flavor = nsq.NeutrinoCrossSections_NeutrinoFlavor.tau,\n",
    "                                       neutype = nsq.NeutrinoCrossSections_NeutrinoType.neutrino,\n",
    "                                       interaction = nsq.NeutrinoCrossSections_Current.NC\n",
    "                                    ):\n",
    "    total = dis.TotalCrossSection(enu_in/units.GeV,flavor,neutype,interaction)\n",
    "    diff = dis.SingleDifferentialCrossSection(enu_in/units.GeV,enu_out/units.GeV,flavor,neutype,interaction)\n",
    "    return diff/total\n",
    "\n",
    "def DistributionOfTauDecays(tau_initial,nutau_initial):\n",
    "    # tau dies and resurrects as a neutrino #\n",
    "    # this returns dN/dz with z = nutau_initial/tau_initial and is such that \\int_0^1 dNdz = 1\n",
    "    return tds.TauDecayToAll(tau_initial,nutau_initial)"
   ]
  },
  {
   "cell_type": "code",
   "execution_count": 70,
   "metadata": {
    "collapsed": true
   },
   "outputs": [],
   "source": [
    "Etau = 100.\n",
    "zz = np.linspace(0.0,1.0,500)\n",
    "dNTaudz = lambda z: tds.TauDecayToAll(Etau, Etau*z)\n",
    "TauDecayweights = np.array(map(dNTaudz,zz))\n",
    "TauDecayweights = weights/np.sum(TauDecayweights)\n",
    "\n",
    "proton_mass = 1.*units.GeV"
   ]
  },
  {
   "cell_type": "code",
   "execution_count": 96,
   "metadata": {},
   "outputs": [],
   "source": [
    "class CasinoEvent(object):\n",
    "    def __init__(self, particle_id, energy, position):\n",
    "        self.particle_id = particle_id\n",
    "        self.energy = energy\n",
    "        self.position = position\n",
    "        self.SetParticleProperties()\n",
    "        \n",
    "    def SetParticleProperties(self):\n",
    "        if self.particle_id == \"tau_neutrino\":\n",
    "            self.mass = 0.0\n",
    "            self.lifetime = np.inf\n",
    "        if self.particle_id == \"tau\":\n",
    "            self.mass = 1.7*units.GeV\n",
    "            self.lifetime = 1.*units.sec\n",
    "            \n",
    "    def GetParticleId(self):\n",
    "        return self.particle_id\n",
    "    \n",
    "    def GetLifetime(self):\n",
    "        return self.lifetime\n",
    "    \n",
    "    def GetMass(self):\n",
    "        return self.mass\n",
    "    \n",
    "    def GetBoostFactor(self):\n",
    "        if self.mass > 0.:\n",
    "            return self.energy/self.mass\n",
    "        else:\n",
    "            return np.inf\n",
    "            \n",
    "    def GetDecayProbability(self,dL):\n",
    "        boost_factor = self.GetBoostFactor()\n",
    "        return dL/(boost_factor*self.lifetime)\n",
    "    \n",
    "    def GetInteractionLength(self,density):\n",
    "        # this should be actually divided by average of proton and neutron mass\n",
    "        return TotalNeutrinoCrossSection(self.energy)*density/(proton_mass)\n",
    "    \n",
    "    def GetInteractionProbability(self,dL,density):\n",
    "        return dL/self.GetInteractionLength(density)\n",
    "    \n",
    "    def DecayParticle(self):\n",
    "        if self.particle_id == \"tau_neutrino\":\n",
    "            return\n",
    "        if self.particle_id == \"tau\":\n",
    "            self.energy = self.energy*np.random.choice(zz, p=TauDecayweights, size = 1)\n",
    "            self.particle_id = \"tau_neutrino\"\n",
    "            self.SetParticleProperties()           "
   ]
  },
  {
   "cell_type": "code",
   "execution_count": 97,
   "metadata": {
    "collapsed": true
   },
   "outputs": [],
   "source": [
    "TotalDistance = 100*units.km\n",
    "ProposedDistanceStep = 1.*units.km \n",
    "density = 1.*units.gr/units.cm**3"
   ]
  },
  {
   "cell_type": "code",
   "execution_count": 115,
   "metadata": {},
   "outputs": [
    {
     "name": "stdout",
     "output_type": "stream",
     "text": [
      "Interacted\n"
     ]
    },
    {
     "ename": "NameError",
     "evalue": "name 'Sample' is not defined",
     "output_type": "error",
     "traceback": [
      "\u001b[0;31m---------------------------------------------------------------------------\u001b[0m",
      "\u001b[0;31mNameError\u001b[0m                                 Traceback (most recent call last)",
      "\u001b[0;32m<ipython-input-115-f9982714f3d5>\u001b[0m in \u001b[0;36m<module>\u001b[0;34m()\u001b[0m\n\u001b[1;32m     15\u001b[0m             \u001b[0;31m# do interaction\u001b[0m\u001b[0;34m\u001b[0m\u001b[0;34m\u001b[0m\u001b[0m\n\u001b[1;32m     16\u001b[0m             \u001b[0;32mif\u001b[0m \u001b[0mevent\u001b[0m\u001b[0;34m.\u001b[0m\u001b[0mparticle_id\u001b[0m \u001b[0;34m==\u001b[0m \u001b[0;34m\"tau_neutrino\"\u001b[0m\u001b[0;34m:\u001b[0m\u001b[0;34m\u001b[0m\u001b[0m\n\u001b[0;32m---> 17\u001b[0;31m                 \u001b[0mevent\u001b[0m\u001b[0;34m.\u001b[0m\u001b[0menergy\u001b[0m \u001b[0;34m=\u001b[0m \u001b[0mSample\u001b[0m\u001b[0;34m(\u001b[0m\u001b[0;32mlambda\u001b[0m \u001b[0menu_out\u001b[0m\u001b[0;34m:\u001b[0m \u001b[0mDifferentialOutGoingNeutrinoLeptonDistribution\u001b[0m\u001b[0;34m(\u001b[0m\u001b[0me\u001b[0m\u001b[0;34m.\u001b[0m\u001b[0menergy\u001b[0m\u001b[0;34m,\u001b[0m \u001b[0menu_out\u001b[0m\u001b[0;34m)\u001b[0m\u001b[0;34m)\u001b[0m\u001b[0;34m\u001b[0m\u001b[0m\n\u001b[0m\u001b[1;32m     18\u001b[0m             \u001b[0;32melif\u001b[0m \u001b[0mevent\u001b[0m\u001b[0;34m.\u001b[0m\u001b[0mparticle_id\u001b[0m \u001b[0;34m==\u001b[0m \u001b[0;34m\"tau\"\u001b[0m\u001b[0;34m:\u001b[0m\u001b[0;34m\u001b[0m\u001b[0m\n\u001b[1;32m     19\u001b[0m                 \u001b[0mevent\u001b[0m\u001b[0;34m.\u001b[0m\u001b[0menergy\u001b[0m \u001b[0;34m=\u001b[0m \u001b[0mSample\u001b[0m\u001b[0;34m(\u001b[0m\u001b[0;32mlambda\u001b[0m \u001b[0menu_out\u001b[0m\u001b[0;34m:\u001b[0m \u001b[0mDifferentialOutGoingTauLeptonDistribution\u001b[0m\u001b[0;34m(\u001b[0m\u001b[0me\u001b[0m\u001b[0;34m.\u001b[0m\u001b[0menergy\u001b[0m\u001b[0;34m,\u001b[0m \u001b[0menu_out\u001b[0m\u001b[0;34m)\u001b[0m\u001b[0;34m)\u001b[0m\u001b[0;34m\u001b[0m\u001b[0m\n",
      "\u001b[0;31mNameError\u001b[0m: name 'Sample' is not defined"
     ]
    }
   ],
   "source": [
    "FirstEvent = CasinoEvent(\"tau_neutrino\",1e7*units.GeV,0.0)\n",
    "EventCollection = [FirstEvent]\n",
    "\n",
    "while(not np.any(map(lambda e: e.position > TotalDistance, EventCollection))):\n",
    "    for event in EventCollection:\n",
    "        p = np.random.random_sample()\n",
    "        if event.GetDecayProbability(ProposedDistanceStep) > p:\n",
    "            # do decay\n",
    "            print \"Decayed\"\n",
    "            event.DecayParticle()\n",
    "            \n",
    "        p = np.random.random_sample()\n",
    "        if event.GetInteractionProbability(ProposedDistanceStep,density) > p:\n",
    "            print \"Interacted\"\n",
    "            # do interaction\n",
    "            if event.particle_id == \"tau_neutrino\":\n",
    "                event.energy = Sample(lambda enu_out: DifferentialOutGoingNeutrinoLeptonDistribution(e.energy, enu_out))\n",
    "            elif event.particle_id == \"tau\":\n",
    "                event.energy = Sample(lambda enu_out: DifferentialOutGoingTauLeptonDistribution(e.energy, enu_out))\n",
    "    # move everything forward\n",
    "    for event in EventCollection:\n",
    "        event.position += ProposedDistanceStep"
   ]
  },
  {
   "cell_type": "code",
   "execution_count": 111,
   "metadata": {},
   "outputs": [
    {
     "data": {
      "text/plain": [
       "'tau_neutrino'"
      ]
     },
     "execution_count": 111,
     "metadata": {},
     "output_type": "execute_result"
    }
   ],
   "source": [
    "event.GetParticleId()"
   ]
  },
  {
   "cell_type": "code",
   "execution_count": null,
   "metadata": {
    "collapsed": true
   },
   "outputs": [],
   "source": []
  }
 ],
 "metadata": {
  "kernelspec": {
   "display_name": "Python 2",
   "language": "python",
   "name": "python2"
  },
  "language_info": {
   "codemirror_mode": {
    "name": "ipython",
    "version": 2
   },
   "file_extension": ".py",
   "mimetype": "text/x-python",
   "name": "python",
   "nbconvert_exporter": "python",
   "pygments_lexer": "ipython2",
   "version": "2.7.10"
  }
 },
 "nbformat": 4,
 "nbformat_minor": 2
}
